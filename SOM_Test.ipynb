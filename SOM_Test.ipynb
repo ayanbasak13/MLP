{
 "cells": [
  {
   "cell_type": "code",
   "execution_count": 1,
   "metadata": {},
   "outputs": [],
   "source": [
    "# Self Organizing Map\n",
    "\n",
    "# Importing the libraries\n",
    "import numpy as np\n",
    "import matplotlib.pyplot as plt\n",
    "import pandas as pd"
   ]
  },
  {
   "cell_type": "code",
   "execution_count": 2,
   "metadata": {},
   "outputs": [],
   "source": [
    "# Importing the dataset\n",
    "dataset = pd.read_csv('Credit_Card_Applications.csv')\n",
    "X = dataset.iloc[:, :-1].values\n",
    "y = dataset.iloc[:, -1].values"
   ]
  },
  {
   "cell_type": "code",
   "execution_count": 3,
   "metadata": {},
   "outputs": [
    {
     "data": {
      "text/html": [
       "<div>\n",
       "<style scoped>\n",
       "    .dataframe tbody tr th:only-of-type {\n",
       "        vertical-align: middle;\n",
       "    }\n",
       "\n",
       "    .dataframe tbody tr th {\n",
       "        vertical-align: top;\n",
       "    }\n",
       "\n",
       "    .dataframe thead th {\n",
       "        text-align: right;\n",
       "    }\n",
       "</style>\n",
       "<table border=\"1\" class=\"dataframe\">\n",
       "  <thead>\n",
       "    <tr style=\"text-align: right;\">\n",
       "      <th></th>\n",
       "      <th>CustomerID</th>\n",
       "      <th>A1</th>\n",
       "      <th>A2</th>\n",
       "      <th>A3</th>\n",
       "      <th>A4</th>\n",
       "      <th>A5</th>\n",
       "      <th>A6</th>\n",
       "      <th>A7</th>\n",
       "      <th>A8</th>\n",
       "      <th>A9</th>\n",
       "      <th>A10</th>\n",
       "      <th>A11</th>\n",
       "      <th>A12</th>\n",
       "      <th>A13</th>\n",
       "      <th>A14</th>\n",
       "      <th>Class</th>\n",
       "    </tr>\n",
       "  </thead>\n",
       "  <tbody>\n",
       "    <tr>\n",
       "      <th>0</th>\n",
       "      <td>15776156</td>\n",
       "      <td>1</td>\n",
       "      <td>22.08</td>\n",
       "      <td>11.46</td>\n",
       "      <td>2</td>\n",
       "      <td>4</td>\n",
       "      <td>4</td>\n",
       "      <td>1.585</td>\n",
       "      <td>0</td>\n",
       "      <td>0</td>\n",
       "      <td>0</td>\n",
       "      <td>1</td>\n",
       "      <td>2</td>\n",
       "      <td>100</td>\n",
       "      <td>1213</td>\n",
       "      <td>0</td>\n",
       "    </tr>\n",
       "    <tr>\n",
       "      <th>1</th>\n",
       "      <td>15739548</td>\n",
       "      <td>0</td>\n",
       "      <td>22.67</td>\n",
       "      <td>7.00</td>\n",
       "      <td>2</td>\n",
       "      <td>8</td>\n",
       "      <td>4</td>\n",
       "      <td>0.165</td>\n",
       "      <td>0</td>\n",
       "      <td>0</td>\n",
       "      <td>0</td>\n",
       "      <td>0</td>\n",
       "      <td>2</td>\n",
       "      <td>160</td>\n",
       "      <td>1</td>\n",
       "      <td>0</td>\n",
       "    </tr>\n",
       "    <tr>\n",
       "      <th>2</th>\n",
       "      <td>15662854</td>\n",
       "      <td>0</td>\n",
       "      <td>29.58</td>\n",
       "      <td>1.75</td>\n",
       "      <td>1</td>\n",
       "      <td>4</td>\n",
       "      <td>4</td>\n",
       "      <td>1.250</td>\n",
       "      <td>0</td>\n",
       "      <td>0</td>\n",
       "      <td>0</td>\n",
       "      <td>1</td>\n",
       "      <td>2</td>\n",
       "      <td>280</td>\n",
       "      <td>1</td>\n",
       "      <td>0</td>\n",
       "    </tr>\n",
       "    <tr>\n",
       "      <th>3</th>\n",
       "      <td>15687688</td>\n",
       "      <td>0</td>\n",
       "      <td>21.67</td>\n",
       "      <td>11.50</td>\n",
       "      <td>1</td>\n",
       "      <td>5</td>\n",
       "      <td>3</td>\n",
       "      <td>0.000</td>\n",
       "      <td>1</td>\n",
       "      <td>1</td>\n",
       "      <td>11</td>\n",
       "      <td>1</td>\n",
       "      <td>2</td>\n",
       "      <td>0</td>\n",
       "      <td>1</td>\n",
       "      <td>1</td>\n",
       "    </tr>\n",
       "    <tr>\n",
       "      <th>4</th>\n",
       "      <td>15715750</td>\n",
       "      <td>1</td>\n",
       "      <td>20.17</td>\n",
       "      <td>8.17</td>\n",
       "      <td>2</td>\n",
       "      <td>6</td>\n",
       "      <td>4</td>\n",
       "      <td>1.960</td>\n",
       "      <td>1</td>\n",
       "      <td>1</td>\n",
       "      <td>14</td>\n",
       "      <td>0</td>\n",
       "      <td>2</td>\n",
       "      <td>60</td>\n",
       "      <td>159</td>\n",
       "      <td>1</td>\n",
       "    </tr>\n",
       "  </tbody>\n",
       "</table>\n",
       "</div>"
      ],
      "text/plain": [
       "   CustomerID  A1     A2     A3  A4  A5  A6     A7  A8  A9  A10  A11  A12  \\\n",
       "0    15776156   1  22.08  11.46   2   4   4  1.585   0   0    0    1    2   \n",
       "1    15739548   0  22.67   7.00   2   8   4  0.165   0   0    0    0    2   \n",
       "2    15662854   0  29.58   1.75   1   4   4  1.250   0   0    0    1    2   \n",
       "3    15687688   0  21.67  11.50   1   5   3  0.000   1   1   11    1    2   \n",
       "4    15715750   1  20.17   8.17   2   6   4  1.960   1   1   14    0    2   \n",
       "\n",
       "   A13   A14  Class  \n",
       "0  100  1213      0  \n",
       "1  160     1      0  \n",
       "2  280     1      0  \n",
       "3    0     1      1  \n",
       "4   60   159      1  "
      ]
     },
     "execution_count": 3,
     "metadata": {},
     "output_type": "execute_result"
    }
   ],
   "source": [
    "dataset.head(5)"
   ]
  },
  {
   "cell_type": "code",
   "execution_count": 4,
   "metadata": {},
   "outputs": [],
   "source": [
    "# Feature Scaling\n",
    "from sklearn.preprocessing import MinMaxScaler\n",
    "sc = MinMaxScaler(feature_range = (0, 1))\n",
    "X = sc.fit_transform(X)"
   ]
  },
  {
   "cell_type": "code",
   "execution_count": 5,
   "metadata": {},
   "outputs": [],
   "source": [
    "# Training the SOM\n",
    "from minisom import MiniSom\n",
    "som = MiniSom(x = 10, y = 10, input_len = 15, sigma = 1.0, learning_rate = 0.5)\n",
    "som.random_weights_init(X)\n",
    "som.train_random(data = X, num_iteration = 100)"
   ]
  },
  {
   "cell_type": "code",
   "execution_count": 6,
   "metadata": {},
   "outputs": [
    {
     "data": {
      "image/png": "[encoded data removed]",
      "text/plain": [
       "<Figure size 432x288 with 2 Axes>"
      ]
     },
     "metadata": {
      "needs_background": "light"
     },
     "output_type": "display_data"
    }
   ],
   "source": [
    "# Visualizing the results\n",
    "from pylab import bone, pcolor, colorbar, plot, show\n",
    "bone()\n",
    "pcolor(som.distance_map().T)\n",
    "colorbar()\n",
    "markers = ['o', 's']\n",
    "colors = ['r', 'g']\n",
    "for i, x in enumerate(X):\n",
    "    w = som.winner(x)\n",
    "    plot(w[0] + 0.5,\n",
    "         w[1] + 0.5,\n",
    "         markers[y[i]],\n",
    "         markeredgecolor = colors[y[i]],\n",
    "         markerfacecolor = 'None',\n",
    "         markersize = 10,\n",
    "         markeredgewidth = 2)\n",
    "show()\n"
   ]
  },
  {
   "cell_type": "code",
   "execution_count": 8,
   "metadata": {},
   "outputs": [],
   "source": [
    "mappings = som.win_map(X)"
   ]
  },
  {
   "cell_type": "code",
   "execution_count": 9,
   "metadata": {},
   "outputs": [
    {
     "name": "stdout",
     "output_type": "stream",
     "text": [
      "<class 'list'>\n",
      "(3, 15)\n"
     ]
    }
   ],
   "source": [
    "print(type(mappings[(0,7)]))\n",
    "#print(mappings[(6,4)])\n",
    "print(np.array(mappings[(0,7)]).shape)"
   ]
  },
  {
   "cell_type": "code",
   "execution_count": 10,
   "metadata": {},
   "outputs": [
    {
     "name": "stdout",
     "output_type": "stream",
     "text": [
      "(4, 15)\n"
     ]
    }
   ],
   "source": [
    "#print(mappings[(4,3)])\n",
    "print(np.array(mappings[(3,1)]).shape)"
   ]
  },
  {
   "cell_type": "code",
   "execution_count": 11,
   "metadata": {},
   "outputs": [
    {
     "name": "stdout",
     "output_type": "stream",
     "text": [
      "<class 'collections.defaultdict'>\n"
     ]
    }
   ],
   "source": [
    "# Finding the frauds\n",
    "#mappings = som.win_map(X)\n",
    "print(type(mappings))\n",
    "#print(mappings)\n"
   ]
  },
  {
   "cell_type": "code",
   "execution_count": 12,
   "metadata": {},
   "outputs": [
    {
     "name": "stdout",
     "output_type": "stream",
     "text": [
      "[[3.96069339e-02 0.00000000e+00 1.65413534e-01 4.88035714e-01\n",
      "  5.00000000e-01 7.69230769e-01 8.75000000e-01 5.26315789e-02\n",
      "  0.00000000e+00 0.00000000e+00 0.00000000e+00 0.00000000e+00\n",
      "  5.00000000e-01 1.40000000e-01 1.00000000e-05]\n",
      " [5.16367743e-01 0.00000000e+00 1.91729323e-01 9.67857143e-02\n",
      "  0.00000000e+00 5.38461538e-01 3.75000000e-01 2.98245614e-03\n",
      "  0.00000000e+00 0.00000000e+00 0.00000000e+00 0.00000000e+00\n",
      "  0.00000000e+00 4.00000000e-02 0.00000000e+00]\n",
      " [3.43356198e-01 0.00000000e+00 8.38345865e-01 2.14285714e-01\n",
      "  5.00000000e-01 0.00000000e+00 0.00000000e+00 0.00000000e+00\n",
      "  0.00000000e+00 0.00000000e+00 0.00000000e+00 0.00000000e+00\n",
      "  0.00000000e+00 0.00000000e+00 0.00000000e+00]\n",
      " [8.56039947e-01 1.00000000e+00 7.63909774e-02 0.00000000e+00\n",
      "  5.00000000e-01 7.69230769e-01 3.75000000e-01 2.33333333e-02\n",
      "  0.00000000e+00 0.00000000e+00 0.00000000e+00 0.00000000e+00\n",
      "  5.00000000e-01 8.00000000e-02 1.00000000e-05]\n",
      " [6.78763780e-01 1.00000000e+00 1.37894737e-01 6.07142857e-03\n",
      "  5.00000000e-01 4.61538462e-01 3.75000000e-01 2.98245614e-03\n",
      "  0.00000000e+00 0.00000000e+00 0.00000000e+00 0.00000000e+00\n",
      "  0.00000000e+00 0.00000000e+00 0.00000000e+00]\n",
      " [3.63205715e-01 1.00000000e+00 4.03458647e-01 5.35714286e-02\n",
      "  5.00000000e-01 1.53846154e-01 5.00000000e-01 0.00000000e+00\n",
      "  0.00000000e+00 0.00000000e+00 0.00000000e+00 0.00000000e+00\n",
      "  0.00000000e+00 1.50000000e-01 0.00000000e+00]\n",
      " [3.56570522e-01 1.00000000e+00 1.50375940e-01 4.28571429e-01\n",
      "  5.00000000e-01 5.38461538e-01 3.75000000e-01 7.31578947e-02\n",
      "  0.00000000e+00 0.00000000e+00 0.00000000e+00 0.00000000e+00\n",
      "  0.00000000e+00 4.00000000e-02 0.00000000e+00]]\n"
     ]
    }
   ],
   "source": [
    "frauds = np.concatenate((mappings[(0,7)], mappings[(3,1)]), axis = 0)\n",
    "print(frauds)"
   ]
  },
  {
   "cell_type": "code",
   "execution_count": 13,
   "metadata": {},
   "outputs": [
    {
     "name": "stdout",
     "output_type": "stream",
     "text": [
      "[[1.5575605e+07 0.0000000e+00 2.4750000e+01 1.3665000e+01 2.0000000e+00\n",
      "  1.1000000e+01 8.0000000e+00 1.5000000e+00 0.0000000e+00 0.0000000e+00\n",
      "  0.0000000e+00 0.0000000e+00 2.0000000e+00 2.8000000e+02 2.0000000e+00]\n",
      " [1.5694666e+07 0.0000000e+00 2.6500000e+01 2.7100000e+00 1.0000000e+00\n",
      "  8.0000000e+00 4.0000000e+00 8.5000000e-02 0.0000000e+00 0.0000000e+00\n",
      "  0.0000000e+00 0.0000000e+00 1.0000000e+00 8.0000000e+01 1.0000000e+00]\n",
      " [1.5651460e+07 0.0000000e+00 6.9500000e+01 6.0000000e+00 2.0000000e+00\n",
      "  1.0000000e+00 1.0000000e+00 0.0000000e+00 0.0000000e+00 0.0000000e+00\n",
      "  0.0000000e+00 0.0000000e+00 1.0000000e+00 0.0000000e+00 1.0000000e+00]\n",
      " [1.5779492e+07 1.0000000e+00 1.8830000e+01 0.0000000e+00 2.0000000e+00\n",
      "  1.1000000e+01 4.0000000e+00 6.6500000e-01 0.0000000e+00 0.0000000e+00\n",
      "  0.0000000e+00 0.0000000e+00 2.0000000e+00 1.6000000e+02 2.0000000e+00]\n",
      " [1.5735221e+07 1.0000000e+00 2.2920000e+01 1.7000000e-01 2.0000000e+00\n",
      "  7.0000000e+00 4.0000000e+00 8.5000000e-02 0.0000000e+00 0.0000000e+00\n",
      "  0.0000000e+00 0.0000000e+00 1.0000000e+00 0.0000000e+00 1.0000000e+00]\n",
      " [1.5656417e+07 1.0000000e+00 4.0580000e+01 1.5000000e+00 2.0000000e+00\n",
      "  3.0000000e+00 5.0000000e+00 0.0000000e+00 0.0000000e+00 0.0000000e+00\n",
      "  0.0000000e+00 0.0000000e+00 1.0000000e+00 3.0000000e+02 1.0000000e+00]\n",
      " [1.5654760e+07 1.0000000e+00 2.3750000e+01 1.2000000e+01 2.0000000e+00\n",
      "  8.0000000e+00 4.0000000e+00 2.0850000e+00 0.0000000e+00 0.0000000e+00\n",
      "  0.0000000e+00 0.0000000e+00 1.0000000e+00 8.0000000e+01 1.0000000e+00]]\n"
     ]
    }
   ],
   "source": [
    "frauds = sc.inverse_transform(frauds)\n",
    "print(frauds)"
   ]
  },
  {
   "cell_type": "code",
   "execution_count": 14,
   "metadata": {},
   "outputs": [
    {
     "name": "stdout",
     "output_type": "stream",
     "text": [
      "15575605.000000\n"
     ]
    }
   ],
   "source": [
    "print('{:f}'.format(frauds[0][0]))"
   ]
  },
  {
   "cell_type": "code",
   "execution_count": null,
   "metadata": {},
   "outputs": [],
   "source": [
    "#frauds = frauds.tolist()"
   ]
  },
  {
   "cell_type": "code",
   "execution_count": 37,
   "metadata": {},
   "outputs": [
    {
     "name": "stdout",
     "output_type": "stream",
     "text": [
      "<class 'list'>\n",
      "<class 'list'>\n",
      "(7, 15)\n",
      "[['15575605.000000', '0.000000', '24.750000', '13.665000', '2.000000', '11.000000', '8.000000', '1.500000', '0.000000', '0.000000', '0.000000', '0.000000', '2.000000', '280.000000', '2.000000'], ['15694666.000000', '0.000000', '26.500000', '2.710000', '1.000000', '8.000000', '4.000000', '0.085000', '0.000000', '0.000000', '0.000000', '0.000000', '1.000000', '80.000000', '1.000000'], ['15651460.000000', '0.000000', '69.500000', '6.000000', '2.000000', '1.000000', '1.000000', '0.000000', '0.000000', '0.000000', '0.000000', '0.000000', '1.000000', '0.000000', '1.000000'], ['15779492.000000', '1.000000', '18.830000', '0.000000', '2.000000', '11.000000', '4.000000', '0.665000', '0.000000', '0.000000', '0.000000', '0.000000', '2.000000', '160.000000', '2.000000'], ['15735221.000000', '1.000000', '22.920000', '0.170000', '2.000000', '7.000000', '4.000000', '0.085000', '0.000000', '0.000000', '0.000000', '0.000000', '1.000000', '0.000000', '1.000000'], ['15656417.000000', '1.000000', '40.580000', '1.500000', '2.000000', '3.000000', '5.000000', '0.000000', '0.000000', '0.000000', '0.000000', '0.000000', '1.000000', '300.000000', '1.000000'], ['15654760.000000', '1.000000', '23.750000', '12.000000', '2.000000', '8.000000', '4.000000', '2.085000', '0.000000', '0.000000', '0.000000', '0.000000', '1.000000', '80.000000', '1.000000']]\n"
     ]
    }
   ],
   "source": [
    "#print(type(frauds))\n",
    "\n",
    "print(type(frauds[0]))\n",
    "print(type(frauds))\n",
    "\n",
    "\n",
    "'''for i in frauds :\n",
    "    frauds[i].tolist()'''\n",
    "\n",
    "v = np.array(frauds).shape\n",
    "print(v)\n",
    "\n",
    "for i in  range(0,v[0]) :\n",
    "    for j in range(0,v[1]) :\n",
    "        k = '{:f}'.format(float(frauds[i][j]))\n",
    "        frauds[i][j] = k\n",
    "\n",
    "\n",
    "        \n",
    "print(frauds)\n"
   ]
  },
  {
   "cell_type": "code",
   "execution_count": null,
   "metadata": {},
   "outputs": [],
   "source": []
  }
 ],
 "metadata": {
  "kernelspec": {
   "display_name": "Python 3",
   "language": "python",
   "name": "python3"
  },
  "language_info": {
   "codemirror_mode": {
    "name": "ipython",
    "version": 3
   },
   "file_extension": ".py",
   "mimetype": "text/x-python",
   "name": "python",
   "nbconvert_exporter": "python",
   "pygments_lexer": "ipython3",
   "version": "3.6.6"
  }
 },
 "nbformat": 4,
 "nbformat_minor": 2
}
